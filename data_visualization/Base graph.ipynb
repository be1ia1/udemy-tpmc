{
 "cells": [
  {
   "cell_type": "code",
   "execution_count": 4,
   "id": "56fd7bce",
   "metadata": {},
   "outputs": [],
   "source": [
    "from bokeh.plotting import figure\n",
    "from bokeh.io import output_file, show\n",
    "\n",
    "x = [1, 2, 3, 4, 5]\n",
    "y = [6, 7, 8, 9, 10]\n",
    "\n",
    "output_file('line.html')\n",
    "f = figure()\n",
    "f.line(x, y)\n",
    "show(f)"
   ]
  },
  {
   "cell_type": "code",
   "execution_count": 2,
   "id": "8bd915cf",
   "metadata": {},
   "outputs": [],
   "source": [
    "\n",
    "x1 = 5\n",
    "y1 = 5\n",
    "f1 = figure()\n",
    "f1.triangle(x1,y1, 30)\n",
    "show(f1)"
   ]
  },
  {
   "cell_type": "code",
   "execution_count": 3,
   "id": "fadffe71",
   "metadata": {},
   "outputs": [],
   "source": [
    "x2 = 5\n",
    "y2 = 50\n",
    "f2 = figure()\n",
    "f2.circle(x2,y2, size=60)\n",
    "show(f2)"
   ]
  },
  {
   "cell_type": "code",
   "execution_count": 5,
   "id": "844506c5",
   "metadata": {},
   "outputs": [],
   "source": [
    "from bokeh.plotting import figure\n",
    "from bokeh.io import output_file, show\n",
    "import pandas\n",
    "\n",
    "df = pandas.read_csv('data.csv')\n",
    "\n",
    "x = df['x']\n",
    "y = df['y']\n",
    "\n",
    "output_file('line.html')\n",
    "f = figure()\n",
    "f.line(x, y)\n",
    "show(f)"
   ]
  },
  {
   "cell_type": "code",
   "execution_count": 7,
   "id": "efb9ddb9",
   "metadata": {},
   "outputs": [],
   "source": [
    "from bokeh.plotting import figure\n",
    "from bokeh.io import output_file, show\n",
    "import pandas\n",
    "\n",
    "df = pandas.read_csv('bachelors.csv')\n",
    "\n",
    "x = df['Year']\n",
    "y = df['Engineering']\n",
    "\n",
    "output_file('line.html')\n",
    "f = figure()\n",
    "f.line(x, y)\n",
    "show(f)"
   ]
  },
  {
   "cell_type": "code",
   "execution_count": 3,
   "id": "cb4c55cb",
   "metadata": {},
   "outputs": [],
   "source": [
    "import pandas\n",
    "from bokeh.plotting import figure, output_file, show\n",
    "\n",
    "p=figure(plot_width=500,plot_height=400, tools='pan')\n",
    "\n",
    "p.title.text=\"Cool Data\"\n",
    "p.title.text_color=\"Gray\"\n",
    "p.title.text_font=\"times\"\n",
    "p.title.text_font_style=\"bold\"\n",
    "p.xaxis.minor_tick_line_color=None\n",
    "p.yaxis.minor_tick_line_color=None\n",
    "p.xaxis.axis_label=\"Date\"\n",
    "p.yaxis.axis_label=\"Intensity\"    \n",
    "\n",
    "p.line([1,2,3],[4,5,6])\n",
    "output_file(\"graph1.html\")\n",
    "show(p)"
   ]
  },
  {
   "cell_type": "code",
   "execution_count": 5,
   "id": "770d1911",
   "metadata": {},
   "outputs": [],
   "source": [
    "import pandas\n",
    "from bokeh.plotting import figure, output_file, show\n",
    "\n",
    "df = pandas.read_excel('verlegenhuken.xlsx')\n",
    "df['Temperature'] = df['Temperature'] / 10\n",
    "df['Pressure'] = df['Pressure'] / 10 \n",
    "output_file(\"graph1.html\")\n",
    "p=figure()\n",
    "\n",
    "p.title.text=\"Temperature and Air Pressure\"\n",
    "p.title.text_color=\"Gray\"\n",
    "p.title.text_font=\"times\"\n",
    "p.title.text_font_style=\"bold\"\n",
    "p.xaxis.minor_tick_line_color=None\n",
    "p.yaxis.minor_tick_line_color=None\n",
    "p.xaxis.axis_label=\"Temperature (C)\"\n",
    "p.yaxis.axis_label=\"Pressure (hPa)\"    \n",
    "# \n",
    "p.circle(df['Temperature'], df['Pressure'], size=0.5)\n",
    "\n",
    "show(p)\n",
    "\n",
    "\n",
    "\n"
   ]
  },
  {
   "cell_type": "code",
   "execution_count": null,
   "id": "54f0cfeb",
   "metadata": {},
   "outputs": [],
   "source": []
  }
 ],
 "metadata": {
  "kernelspec": {
   "display_name": "Python 3 (ipykernel)",
   "language": "python",
   "name": "python3"
  },
  "language_info": {
   "codemirror_mode": {
    "name": "ipython",
    "version": 3
   },
   "file_extension": ".py",
   "mimetype": "text/x-python",
   "name": "python",
   "nbconvert_exporter": "python",
   "pygments_lexer": "ipython3",
   "version": "3.10.2"
  }
 },
 "nbformat": 4,
 "nbformat_minor": 5
}
