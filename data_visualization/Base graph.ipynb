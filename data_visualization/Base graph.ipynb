{
 "cells": [
  {
   "cell_type": "code",
   "execution_count": 2,
   "id": "56fd7bce",
   "metadata": {},
   "outputs": [],
   "source": [
    "from bokeh.plotting import figure\n",
    "from bokeh.io import output_file, show\n",
    "\n",
    "x = [1, 2, 3, 4, 5]\n",
    "y = [6, 7, 8, 9, 10]\n",
    "\n",
    "output_file('line.html')\n",
    "f = figure()\n",
    "f.line(x, y)\n",
    "show(f)"
   ]
  },
  {
   "cell_type": "code",
   "execution_count": 5,
   "id": "8bd915cf",
   "metadata": {},
   "outputs": [],
   "source": [
    "\n",
    "x1 = 5\n",
    "y1 = 5\n",
    "f1 = figure()\n",
    "f1.triangle(x1,y1, 30)\n",
    "show(f1)"
   ]
  },
  {
   "cell_type": "code",
   "execution_count": 11,
   "id": "fadffe71",
   "metadata": {},
   "outputs": [],
   "source": [
    "x2 = 5\n",
    "y2 = 50\n",
    "f2 = figure()\n",
    "f2.circle(x2,y2, size=60)\n",
    "show(f2)"
   ]
  },
  {
   "cell_type": "code",
   "execution_count": null,
   "id": "dd37b08e",
   "metadata": {},
   "outputs": [],
   "source": []
  }
 ],
 "metadata": {
  "kernelspec": {
   "display_name": "Python 3 (ipykernel)",
   "language": "python",
   "name": "python3"
  },
  "language_info": {
   "codemirror_mode": {
    "name": "ipython",
    "version": 3
   },
   "file_extension": ".py",
   "mimetype": "text/x-python",
   "name": "python",
   "nbconvert_exporter": "python",
   "pygments_lexer": "ipython3",
   "version": "3.10.2"
  }
 },
 "nbformat": 4,
 "nbformat_minor": 5
}
